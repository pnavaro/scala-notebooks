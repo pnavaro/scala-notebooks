{
 "cells": [
  {
   "cell_type": "code",
   "execution_count": 1,
   "metadata": {},
   "outputs": [
    {
     "data": {
      "text/plain": [
       "printRecordsPerPartition: (df: org.apache.spark.sql.Dataset[org.apache.spark.sql.Row])Unit\n"
      ]
     },
     "metadata": {},
     "output_type": "display_data"
    }
   ],
   "source": [
    "// because we'll need it later\n",
    "import org.apache.spark.sql._\n",
    "import org.apache.spark.sql.functions._\n",
    "\n",
    "// Utility method to count & print the number of records in each partition.\n",
    "def printRecordsPerPartition(df:org.apache.spark.sql.Dataset[Row]):Unit = {\n",
    "  println(\"Per-Partition Counts:\")\n",
    "  val results = df.rdd                                   // Convert to an RDD\n",
    "    .mapPartitions(it => Array(it.size).iterator, true)  // For each partition, count\n",
    "    .collect()                                           // Return the counts to the driver\n",
    "\n",
    "  results.foreach(x => println(\"* \" + x))\n",
    "}"
   ]
  },
  {
   "cell_type": "code",
   "execution_count": 2,
   "metadata": {},
   "outputs": [
    {
     "data": {
      "text/plain": [
       "parquetDir = file:///Users/navaro/zeppelin-0.7.3-bin-all/data/pageviews-by-second\n",
       "pagecountsEnAllDF = [timestamp: timestamp, site: string ... 1 more field]\n"
      ]
     },
     "metadata": {},
     "output_type": "display_data"
    },
    {
     "data": {
      "text/plain": [
       "[timestamp: timestamp, site: string ... 1 more field]"
      ]
     },
     "execution_count": 2,
     "metadata": {},
     "output_type": "execute_result"
    }
   ],
   "source": [
    "val parquetDir = \"file:///Users/navaro/zeppelin-0.7.3-bin-all/data/pageviews-by-second\"\n",
    "\n",
    "val pagecountsEnAllDF = spark  // Our SparkSession & Entry Point\n",
    "  .read                        // Our DataFrameReader\n",
    "  .parquet(parquetDir)         // Returns an instance of DataFrame\n"
   ]
  },
  {
   "cell_type": "code",
   "execution_count": 3,
   "metadata": {},
   "outputs": [
    {
     "name": "stdout",
     "output_type": "stream",
     "text": [
      "[Stage 1:=======>                                                   (1 + 7) / 8]"
     ]
    },
    {
     "data": {
      "text/plain": [
       "7200000"
      ]
     },
     "execution_count": 3,
     "metadata": {},
     "output_type": "execute_result"
    }
   ],
   "source": [
    "pagecountsEnAllDF\n",
    "  .cache()        // Mark the DataFrame as cached\n",
    "  .count()        // Materialize the cache\n"
   ]
  },
  {
   "cell_type": "code",
   "execution_count": 11,
   "metadata": {},
   "outputs": [
    {
     "name": "stdout",
     "output_type": "stream",
     "text": [
      "root\n",
      " |-- timestamp: timestamp (nullable = true)\n",
      " |-- site: string (nullable = true)\n",
      " |-- requests: integer (nullable = true)\n",
      "\n"
     ]
    }
   ],
   "source": [
    "pagecountsEnAllDF.printSchema()"
   ]
  },
  {
   "cell_type": "code",
   "execution_count": 12,
   "metadata": {},
   "outputs": [
    {
     "name": "stdout",
     "output_type": "stream",
     "text": [
      "root\n",
      " |-- project: string (nullable = true)\n",
      " |-- article: string (nullable = true)\n",
      " |-- requests: integer (nullable = true)\n",
      " |-- bytes_served: long (nullable = true)\n",
      "\n"
     ]
    },
    {
     "data": {
      "text/plain": [
       "parquetFile = file:///Users/navaro/zeppelin-0.7.3-bin-all/data/pagecounts-parquet/\n"
      ]
     },
     "metadata": {},
     "output_type": "display_data"
    },
    {
     "data": {
      "text/plain": [
       "file:///Users/navaro/zeppelin-0.7.3-bin-all/data/pagecounts-parquet/"
      ]
     },
     "execution_count": 12,
     "metadata": {},
     "output_type": "execute_result"
    }
   ],
   "source": [
    "val parquetFile = \"file:///Users/navaro/zeppelin-0.7.3-bin-all/data/pagecounts-parquet/\"\n",
    "\n",
    "spark.read               // The DataFrameReader\n",
    "  .parquet(parquetFile)  // Creates a DataFrame from Parquet after reading in the file\n",
    "  .printSchema()"
   ]
  },
  {
   "cell_type": "code",
   "execution_count": 14,
   "metadata": {},
   "outputs": [
    {
     "name": "stdout",
     "output_type": "stream",
     "text": [
      "root\n",
      " |-- project: string (nullable = true)\n",
      " |-- article: string (nullable = true)\n",
      " |-- requests: integer (nullable = true)\n",
      " |-- bytes_served: long (nullable = true)\n",
      "\n"
     ]
    },
    {
     "data": {
      "text/plain": [
       "parquetSchema = StructType(StructField(project,StringType,false), StructField(article,StringType,false), StructField(requests,IntegerType,false), StructField(bytes_served,LongType,false))\n"
      ]
     },
     "metadata": {},
     "output_type": "display_data"
    },
    {
     "data": {
      "text/plain": [
       "StructType(StructField(project,StringType,false), StructField(article,StringType,false), StructField(requests,IntegerType,false), StructField(bytes_served,LongType,false))"
      ]
     },
     "execution_count": 14,
     "metadata": {},
     "output_type": "execute_result"
    }
   ],
   "source": [
    "import org.apache.spark.sql.types._\n",
    "\n",
    "val parquetSchema = StructType(\n",
    "  List(\n",
    "    StructField(\"project\", StringType, false),\n",
    "    StructField(\"article\", StringType, false),\n",
    "    StructField(\"requests\", IntegerType, false),\n",
    "    StructField(\"bytes_served\", LongType, false)\n",
    "  )\n",
    ")\n",
    "\n",
    "spark.read                // The DataFrameReader\n",
    "  .schema(parquetSchema)  // Use the specified schema\n",
    "  .parquet(parquetFile)   // Creates a DataFrame from Parquet after reading in the file\n",
    "  .printSchema()"
   ]
  },
  {
   "cell_type": "code",
   "execution_count": 18,
   "metadata": {},
   "outputs": [
    {
     "name": "stdout",
     "output_type": "stream",
     "text": [
      "Partitions: 8\n",
      "Per-Partition Counts:\n",
      "* 1161100                                                                       \n",
      "* 1111411\n",
      "* 999869\n",
      "* 724384\n",
      "* 725313\n",
      "* 625841\n",
      "* 536227\n",
      "* 386797\n",
      "--------------------------------------------------------------------------------\n"
     ]
    },
    {
     "data": {
      "text/plain": [
       "parquetDF = [project: string, article: string ... 2 more fields]\n"
      ]
     },
     "metadata": {},
     "output_type": "display_data"
    },
    {
     "data": {
      "text/plain": [
       "[project: string, article: string ... 2 more fields]"
      ]
     },
     "execution_count": 18,
     "metadata": {},
     "output_type": "execute_result"
    }
   ],
   "source": [
    "val parquetDF = spark.read.schema(parquetSchema).parquet(parquetFile)\n",
    "\n",
    "printf(\"Partitions: %,d%n\", parquetDF.rdd.partitions.size)\n",
    "printRecordsPerPartition(parquetDF)\n",
    "println(\"-\"*80)"
   ]
  },
  {
   "cell_type": "code",
   "execution_count": 19,
   "metadata": {},
   "outputs": [
    {
     "name": "stdout",
     "output_type": "stream",
     "text": [
      "+-------+--------------------+--------+------------+\n",
      "|project|             article|requests|bytes_served|\n",
      "+-------+--------------------+--------+------------+\n",
      "|     de|Neuharlingersiel_...|       1|       13318|\n",
      "|     de|              Neuhau|       2|        7139|\n",
      "|     de|             Neuhaus|       1|       12720|\n",
      "|     de|Neuhaus_(Gemeinde...|       1|        5722|\n",
      "|     de|Neuhaus_(Windisch...|       1|       37096|\n",
      "|     de|       Neuhaus_a_Inn|       1|        5593|\n",
      "|     de|  Neuhaus_am_Rennweg|       1|       29196|\n",
      "|     de|  Neuhaus_im_Solling|       1|       74657|\n",
      "|     de|Neuhausen_am_Rhei...|       2|       43186|\n",
      "|     de|    Neuhausen_ob_Eck|       2|      156950|\n",
      "|     de|          Neuherberg|       1|        7817|\n",
      "|     de|Neuherberg_(Lange...|       1|       10394|\n",
      "|     de|Neuhessischer_Reg...|       1|       34252|\n",
      "|     de|Neuhof_(Ostpreu%C...|       1|        9693|\n",
      "|     de|  Neuhof_(bei_Fulda)|       2|       80702|\n",
      "|     de|          Neuholland|       1|        7462|\n",
      "|     de|          Neuhonrath|       1|       14565|\n",
      "|     de|   Neuilly-sur-Seine|       2|       40886|\n",
      "|     de|             Neujahr|       8|       18670|\n",
      "|     de|Neujahrsempfang_i...|       1|        8143|\n",
      "+-------+--------------------+--------+------------+\n",
      "only showing top 20 rows\n",
      "\n"
     ]
    }
   ],
   "source": [
    "parquetDF.show()"
   ]
  },
  {
   "cell_type": "code",
   "execution_count": 21,
   "metadata": {},
   "outputs": [
    {
     "data": {
      "text/plain": [
       "totalArticles = 6270942\n"
      ]
     },
     "metadata": {},
     "output_type": "display_data"
    },
    {
     "data": {
      "text/plain": [
       "6270942"
      ]
     },
     "execution_count": 21,
     "metadata": {},
     "output_type": "execute_result"
    }
   ],
   "source": [
    "val totalArticles = parquetDF.select(\"article\").count()"
   ]
  },
  {
   "cell_type": "code",
   "execution_count": 22,
   "metadata": {},
   "outputs": [
    {
     "data": {
      "text/plain": [
       "Name: java.lang.AssertionError\n",
       "Message: assertion failed: Expected the total to be 1783726 but found 6270942\n",
       "StackTrace:   at scala.Predef$.assert(Predef.scala:170)"
      ]
     },
     "execution_count": 22,
     "metadata": {},
     "output_type": "execute_result"
    }
   ],
   "source": [
    "val expected = 1783726\n",
    "assert (totalArticles == expected, s\"Expected the total to be ${expected} but found ${totalArticles}\")"
   ]
  },
  {
   "cell_type": "code",
   "execution_count": null,
   "metadata": {},
   "outputs": [],
   "source": []
  }
 ],
 "metadata": {
  "kernelspec": {
   "display_name": "Apache Toree - Scala",
   "language": "scala",
   "name": "apache_toree_scala"
  },
  "language_info": {
   "codemirror_mode": "text/x-scala",
   "file_extension": ".scala",
   "mimetype": "text/x-scala",
   "name": "scala",
   "pygments_lexer": "scala",
   "version": "2.11.8"
  }
 },
 "nbformat": 4,
 "nbformat_minor": 2
}
