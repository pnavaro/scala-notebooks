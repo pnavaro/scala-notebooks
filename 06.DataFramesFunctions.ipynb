{
 "cells": [
  {
   "cell_type": "code",
   "execution_count": 1,
   "metadata": {},
   "outputs": [
    {
     "data": {
      "text/plain": [
       "parquetFile = file:///Users/navaro/zeppelin-0.7.3-bin-all/data/pagecounts-parquet/\n",
       "pagecountsEnAllDF = [project: string, article: string ... 2 more fields]\n"
      ]
     },
     "metadata": {},
     "output_type": "display_data"
    },
    {
     "data": {
      "text/plain": [
       "[project: string, article: string ... 2 more fields]"
      ]
     },
     "execution_count": 1,
     "metadata": {},
     "output_type": "execute_result"
    }
   ],
   "source": [
    "val parquetFile = \"file:///Users/navaro/zeppelin-0.7.3-bin-all/data/pagecounts-parquet/\"\n",
    "\n",
    "val pagecountsEnAllDF = spark  // Our SparkSession & Entry Point\n",
    "  .read                        // Our DataFrameReader\n",
    "  .parquet(parquetFile)        // Returns an instance of DataFrame\n",
    "  .cache                       // cache the data\n"
   ]
  },
  {
   "cell_type": "code",
   "execution_count": 2,
   "metadata": {},
   "outputs": [
    {
     "name": "stdout",
     "output_type": "stream",
     "text": [
      "Record Count: 6 270 942                                                         \n",
      "\n"
     ]
    },
    {
     "data": {
      "text/plain": [
       "total = 6270942\n"
      ]
     },
     "metadata": {},
     "output_type": "display_data"
    },
    {
     "data": {
      "text/plain": [
       "6270942"
      ]
     },
     "execution_count": 2,
     "metadata": {},
     "output_type": "execute_result"
    }
   ],
   "source": [
    "val total = pagecountsEnAllDF.count()\n",
    "\n",
    "printf(\"Record Count: %,d%n%n\", total)\n"
   ]
  },
  {
   "cell_type": "code",
   "execution_count": 3,
   "metadata": {},
   "outputs": [
    {
     "name": "stdout",
     "output_type": "stream",
     "text": [
      "+-------+--------------------+--------+------------+\n",
      "|project|             article|requests|bytes_served|\n",
      "+-------+--------------------+--------+------------+\n",
      "|     de|Neuharlingersiel_...|       1|       13318|\n",
      "|     de|              Neuhau|       2|        7139|\n",
      "|     de|             Neuhaus|       1|       12720|\n",
      "|     de|Neuhaus_(Gemeinde...|       1|        5722|\n",
      "|     de|Neuhaus_(Windisch...|       1|       37096|\n",
      "|     de|       Neuhaus_a_Inn|       1|        5593|\n",
      "|     de|  Neuhaus_am_Rennweg|       1|       29196|\n",
      "|     de|  Neuhaus_im_Solling|       1|       74657|\n",
      "|     de|Neuhausen_am_Rhei...|       2|       43186|\n",
      "|     de|    Neuhausen_ob_Eck|       2|      156950|\n",
      "|     de|          Neuherberg|       1|        7817|\n",
      "|     de|Neuherberg_(Lange...|       1|       10394|\n",
      "|     de|Neuhessischer_Reg...|       1|       34252|\n",
      "|     de|Neuhof_(Ostpreu%C...|       1|        9693|\n",
      "|     de|  Neuhof_(bei_Fulda)|       2|       80702|\n",
      "|     de|          Neuholland|       1|        7462|\n",
      "|     de|          Neuhonrath|       1|       14565|\n",
      "|     de|   Neuilly-sur-Seine|       2|       40886|\n",
      "|     de|             Neujahr|       8|       18670|\n",
      "|     de|Neujahrsempfang_i...|       1|        8143|\n",
      "+-------+--------------------+--------+------------+\n",
      "only showing top 20 rows\n",
      "\n"
     ]
    }
   ],
   "source": [
    "pagecountsEnAllDF.show()"
   ]
  },
  {
   "cell_type": "code",
   "execution_count": 4,
   "metadata": {},
   "outputs": [
    {
     "name": "stdout",
     "output_type": "stream",
     "text": [
      "+-------+----------------------------------------------------+--------+------------+\n",
      "|project|article                                             |requests|bytes_served|\n",
      "+-------+----------------------------------------------------+--------+------------+\n",
      "|ru     | 1 31970                                            |null    |null        |\n",
      "|en     |https://commons.wikimedia.org/w/index.php 48 1285152|null    |null        |\n",
      "|tr.d   |%D1%87%D1%91%D1%80%D0%BD%D1%8B%D0%B9                |1       |8155        |\n",
      "|tr.d   |%D1%88%D0%B0%D1%80                                  |1       |7927        |\n",
      "|tr.d   |%D1%88%D0%B0%D0%BA%D0%B0%D1%80                      |1       |7198        |\n",
      "|tr.d   |%D1%88%D0%BE%D1%82                                  |1       |6992        |\n",
      "|tr.d   |%D1%88%D0%B0%D1%81%D0%B5                            |1       |6760        |\n",
      "|tr.d   |%D1%88%D0%B8%D1%8A                                  |1       |7131        |\n",
      "|tr.d   |%D1%88%D0%BE%D1%80%D0%BA%D1%8B%D1%80%D0%B0          |1       |6585        |\n",
      "|tr.d   |%D1%88%D1%83%D0%B2%D1%83%D1%83                      |1       |7423        |\n",
      "+-------+----------------------------------------------------+--------+------------+\n",
      "only showing top 10 rows\n",
      "\n"
     ]
    },
    {
     "data": {
      "text/plain": [
       "sortedDF = [project: string, article: string ... 2 more fields]\n"
      ]
     },
     "metadata": {},
     "output_type": "display_data"
    },
    {
     "data": {
      "text/plain": [
       "[project: string, article: string ... 2 more fields]"
      ]
     },
     "execution_count": 4,
     "metadata": {},
     "output_type": "execute_result"
    }
   ],
   "source": [
    "val sortedDF = pagecountsEnAllDF\n",
    "  .orderBy(\"requests\")\n",
    "\n",
    "sortedDF.show(10, false)"
   ]
  },
  {
   "cell_type": "code",
   "execution_count": null,
   "metadata": {},
   "outputs": [],
   "source": []
  }
 ],
 "metadata": {
  "kernelspec": {
   "display_name": "Apache Toree - Scala",
   "language": "scala",
   "name": "apache_toree_scala"
  },
  "language_info": {
   "codemirror_mode": "text/x-scala",
   "file_extension": ".scala",
   "mimetype": "text/x-scala",
   "name": "scala",
   "pygments_lexer": "scala",
   "version": "2.11.8"
  }
 },
 "nbformat": 4,
 "nbformat_minor": 2
}
