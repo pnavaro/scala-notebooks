{
 "cells": [
  {
   "cell_type": "code",
   "execution_count": null,
   "metadata": {},
   "outputs": [],
   "source": [
    "import scala.util.Random\n",
    "import scala.io.StdIn.readInt"
   ]
  },
  {
   "cell_type": "code",
   "execution_count": null,
   "metadata": {},
   "outputs": [],
   "source": [
    "object GuessTheNumber extends App {\n",
    "\n",
    "  val numberToGuess = Random.nextInt(100)\n",
    "\n",
    "  var nok = true\n",
    "\n",
    "  while ( nok ) {\n",
    "    val guess: Int = readInt()\n",
    "\n",
    "    if ( guess > numberToGuess)\n",
    "      println( \" Trop grand \")\n",
    "    else if ( guess < numberToGuess)\n",
    "      println( \" Trop petit \")\n",
    "    else {\n",
    "      println(\"Bravo\")\n",
    "      nok = false\n",
    "    }\n",
    "\n",
    "  }\n",
    "}\n",
    "GuessTheNumber.main(Array())"
   ]
  },
  {
   "cell_type": "code",
   "execution_count": null,
   "metadata": {},
   "outputs": [],
   "source": [
    "object Savings extends App{\n",
    "\n",
    "  val initialSum = 100\n",
    "  val interestRate = 0.05\n",
    "  val finalSum = 200\n",
    "\n",
    "  var x:Unit = initialSum\n",
    "  var y = 0\n",
    "\n",
    "  def ComputeSum( x:Double) {\n",
    "    if ( x > finalSum)\n",
    "      x\n",
    "    else {\n",
    "      y += 1\n",
    "      ComputeSum(x + x * interestRate)\n",
    "    }\n",
    "\n",
    "  }\n",
    "\n",
    "  x = ComputeSum(initialSum)\n",
    "  println(s\" Somme $x \")\n",
    "  println(s\" Annees $y \")\n",
    "\n",
    "\n",
    "}\n",
    "Savings.main(Array(\"1\",\"2\"))"
   ]
  },
  {
   "cell_type": "code",
   "execution_count": null,
   "metadata": {},
   "outputs": [],
   "source": [
    "val nonTrimmedString = \"   Hello world  \"\n",
    "  \n",
    "fore( c : nonTrimmedString) println(c)"
   ]
  },
  {
   "cell_type": "code",
   "execution_count": null,
   "metadata": {},
   "outputs": [],
   "source": []
  }
 ],
 "metadata": {
  "kernelspec": {
   "display_name": "Apache Toree - Scala",
   "language": "scala",
   "name": "apache_toree_scala"
  },
  "language_info": {
   "codemirror_mode": "text/x-scala",
   "file_extension": ".scala",
   "mimetype": "text/x-scala",
   "name": "scala",
   "pygments_lexer": "scala",
   "version": "2.11.8"
  }
 },
 "nbformat": 4,
 "nbformat_minor": 2
}
